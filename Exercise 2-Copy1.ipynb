{
 "cells": [
  {
   "cell_type": "markdown",
   "metadata": {},
   "source": [
    "## Problem3:"
   ]
  },
  {
   "cell_type": "code",
   "execution_count": 21,
   "metadata": {},
   "outputs": [],
   "source": [
    "geo_proj = geo.copy()"
   ]
  },
  {
   "cell_type": "code",
   "execution_count": 22,
   "metadata": {},
   "outputs": [],
   "source": [
    "geo_proj = geo_proj.to_crs(epsg=32735)"
   ]
  },
  {
   "cell_type": "code",
   "execution_count": 23,
   "metadata": {},
   "outputs": [],
   "source": [
    "geo_grouped = geo_proj.groupby('userid')"
   ]
  },
  {
   "cell_type": "code",
   "execution_count": 24,
   "metadata": {
    "scrolled": true
   },
   "outputs": [],
   "source": [
    "L = list()\n",
    "Len = 0\n",
    "for key, values in geo_grouped:\n",
    "    individual_ID = values\n",
    "    if len(values) != 1:\n",
    "        L.insert(Len, individual_ID)\n",
    "        Len = Len + 1\n",
    "    else:\n",
    "        continue"
   ]
  },
  {
   "cell_type": "code",
   "execution_count": 25,
   "metadata": {},
   "outputs": [],
   "source": [
    "L2 = list()\n",
    "Len2 = 0\n",
    "for j in L:\n",
    "    sort_Ind_ID = j.sort_values(by=['timestamp'])\n",
    "    L2.insert(Len2,sort_Ind_ID)\n",
    "    Len2 = Len2 +1"
   ]
  },
  {
   "cell_type": "code",
   "execution_count": 26,
   "metadata": {},
   "outputs": [],
   "source": [
    "newdata = gpd.GeoDataFrame()\n",
    "newdata['geometry'] = None\n",
    "newdata['UserID'] = None\n",
    "k = 0\n",
    "while k <= len(L2):\n",
    "    for index, row in L2[k].iterrows():\n",
    "        point =row['Geometry']\n",
    "        userID = row['userid']\n",
    "        newdata.loc[k, 'geometry'] = point\n",
    "        newdata.loc[k, 'UserID'] = userID\n",
    "        k = k +1"
   ]
  },
  {
   "cell_type": "code",
   "execution_count": 27,
   "metadata": {},
   "outputs": [],
   "source": [
    "geo_proj_grp = newdata.groupby('UserID')['geometry'].apply(lambda x:LineString(x.tolist()))"
   ]
  },
  {
   "cell_type": "code",
   "execution_count": 28,
   "metadata": {},
   "outputs": [],
   "source": [
    "movements = gpd.GeoDataFrame()\n",
    "movements['geometry'] = None\n",
    "movements['UserID'] = None\n",
    "movements['distance'] = None\n",
    "movements.crs = from_epsg(32735)"
   ]
  },
  {
   "cell_type": "code",
   "execution_count": 29,
   "metadata": {},
   "outputs": [],
   "source": [
    "o=0\n",
    "for i, v in geo_proj_grp.items():\n",
    "    movements.loc[o, 'UserID'] = i\n",
    "    movements.loc[o, 'geometry'] = v\n",
    "    o = o+1"
   ]
  },
  {
   "cell_type": "code",
   "execution_count": 30,
   "metadata": {},
   "outputs": [],
   "source": [
    "for index, row in movements.iterrows():\n",
    "    line =row['geometry']\n",
    "    movements.loc[index, 'distance'] = line.length"
   ]
  },
  {
   "cell_type": "code",
   "execution_count": 42,
   "metadata": {},
   "outputs": [],
   "source": [
    "out_file_path = r\"L2\\Some_movements.shp\"\n",
    "movements.to_file(out_file_path)"
   ]
  },
  {
   "cell_type": "code",
   "execution_count": 43,
   "metadata": {},
   "outputs": [
    {
     "data": {
      "text/plain": [
       "7517520.050927889"
      ]
     },
     "execution_count": 43,
     "metadata": {},
     "output_type": "execute_result"
    }
   ],
   "source": [
    "movements['distance'].max()"
   ]
  },
  {
   "cell_type": "code",
   "execution_count": 44,
   "metadata": {},
   "outputs": [
    {
     "data": {
      "text/plain": [
       "0.0"
      ]
     },
     "execution_count": 44,
     "metadata": {},
     "output_type": "execute_result"
    }
   ],
   "source": [
    "movements['distance'].min()"
   ]
  },
  {
   "cell_type": "code",
   "execution_count": 45,
   "metadata": {},
   "outputs": [
    {
     "data": {
      "text/plain": [
       "148149.17286038873"
      ]
     },
     "execution_count": 45,
     "metadata": {},
     "output_type": "execute_result"
    }
   ],
   "source": [
    "movements['distance'].mean()"
   ]
  },
  {
   "cell_type": "code",
   "execution_count": 46,
   "metadata": {},
   "outputs": [
    {
     "name": "stdout",
     "output_type": "stream",
     "text": [
      "0     LINESTRING (-4681550.088451052 14943799.279331...\n",
      "1     LINESTRING (-4731716.480224191 14931854.861608...\n",
      "2     LINESTRING (-4624857.47280475 14903345.4420535...\n",
      "3     LINESTRING (-4671357.943800891 14889413.010117...\n",
      "4     LINESTRING (-4768087.733638052 14935530.727516...\n",
      "5     LINESTRING (-4764743.926128586 14942388.197532...\n",
      "6     LINESTRING (-4794634.705224873 14945349.971036...\n",
      "7     LINESTRING (-4733909.942119497 14929410.376670...\n",
      "8     LINESTRING (-4674387.931887964 15032950.536868...\n",
      "9     LINESTRING (-4677586.567544919 14877650.727651...\n",
      "10    LINESTRING (-4780988.538624696 14963084.498890...\n",
      "11    LINESTRING (-4792275.11186438 14943358.1915564...\n",
      "12    LINESTRING (-4748873.022718567 15012048.073284...\n",
      "13    LINESTRING (-4623896.827611208 14893110.137437...\n",
      "14    LINESTRING (-4689686.939597982 14954705.769509...\n",
      "Name: geometry, dtype: object\n"
     ]
    }
   ],
   "source": [
    "print(movements['geometry'].head(15))\n"
   ]
  },
  {
   "cell_type": "code",
   "execution_count": null,
   "metadata": {},
   "outputs": [],
   "source": []
  }
 ],
 "metadata": {
  "kernelspec": {
   "display_name": "Python 3",
   "language": "python",
   "name": "python3"
  },
  "language_info": {
   "codemirror_mode": {
    "name": "ipython",
    "version": 3
   },
   "file_extension": ".py",
   "mimetype": "text/x-python",
   "name": "python",
   "nbconvert_exporter": "python",
   "pygments_lexer": "ipython3",
   "version": "3.6.6"
  }
 },
 "nbformat": 4,
 "nbformat_minor": 2
}
