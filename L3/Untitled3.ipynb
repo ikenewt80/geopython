{
 "cells": [
  {
   "cell_type": "code",
   "execution_count": null,
   "metadata": {},
   "outputs": [],
   "source": [
    "import pandas as pd\n",
    "import geopandas as gpd\n",
    "import pmatplotlib.pyplot as pt\n",
    "\n",
    "f_path = r\"C:\\Users\\admin\\geopython\\L4\\E4\\dataE4\\TravelTimes_to_5975373_Forum.txt\"\n",
    "\n",
    "pol_shp = r\"C:\\Users\\admin\\geopython\\L4\\E4\\dataE4\\MetropAccess_YKR_grid_EurefFIN.shp\"\n",
    "\n",
    "d_txt(f_path,sep=';',encoding='latin1')\n",
    "\n",
    "#progress check\n",
    "T_time_dat.head()\n",
    "print(juno)"
   ]
  },
  {
   "cell_type": "code",
   "execution_count": null,
   "metadata": {},
   "outputs": [],
   "source": []
  },
  {
   "cell_type": "code",
   "execution_count": null,
   "metadata": {},
   "outputs": [],
   "source": []
  }
 ],
 "metadata": {
  "kernelspec": {
   "display_name": "Python 3",
   "language": "python",
   "name": "python3"
  },
  "language_info": {
   "codemirror_mode": {
    "name": "ipython",
    "version": 3
   },
   "file_extension": ".py",
   "mimetype": "text/x-python",
   "name": "python",
   "nbconvert_exporter": "python",
   "pygments_lexer": "ipython3",
   "version": "3.6.6"
  }
 },
 "nbformat": 4,
 "nbformat_minor": 2
}
